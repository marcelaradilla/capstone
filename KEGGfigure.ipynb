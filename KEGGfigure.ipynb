{
  "nbformat": 4,
  "nbformat_minor": 0,
  "metadata": {
    "colab": {
      "name": "KEGGfigure.ipynb",
      "provenance": []
    },
    "kernelspec": {
      "name": "python3",
      "display_name": "Python 3"
    }
  },
  "cells": [
    {
      "cell_type": "markdown",
      "metadata": {
        "id": "0b4hCJ9Ak428"
      },
      "source": [
        "This code generates figure 3 of Liang &Sun (2018)\r\n"
      ]
    },
    {
      "cell_type": "code",
      "metadata": {
        "id": "Avujm_b6k2Of"
      },
      "source": [
        "import numpy as np\r\n",
        "import matplotlib.pyplot as plt\r\n",
        "import pandas as pd \r\n",
        "from matplotlib import cm\r\n",
        "import math\r\n",
        "from matplotlib.colors import Normalize"
      ],
      "execution_count": 1,
      "outputs": []
    },
    {
      "cell_type": "code",
      "metadata": {
        "colab": {
          "base_uri": "https://localhost:8080/",
          "height": 704
        },
        "id": "rqERU9IJk-LD",
        "outputId": "29a1a537-b4cf-49ba-b0e0-ba69196c8b0a"
      },
      "source": [
        "kegg_data=pd.read_csv('/content/drive/MyDrive/CAPSTONE/Replication/GO analysis/Copy of KEGGoutput2count1.csv')\r\n",
        "kegg_data"
      ],
      "execution_count": 2,
      "outputs": [
        {
          "output_type": "execute_result",
          "data": {
            "text/html": [
              "<div>\n",
              "<style scoped>\n",
              "    .dataframe tbody tr th:only-of-type {\n",
              "        vertical-align: middle;\n",
              "    }\n",
              "\n",
              "    .dataframe tbody tr th {\n",
              "        vertical-align: top;\n",
              "    }\n",
              "\n",
              "    .dataframe thead th {\n",
              "        text-align: right;\n",
              "    }\n",
              "</style>\n",
              "<table border=\"1\" class=\"dataframe\">\n",
              "  <thead>\n",
              "    <tr style=\"text-align: right;\">\n",
              "      <th></th>\n",
              "      <th>Category</th>\n",
              "      <th>Term</th>\n",
              "      <th>Count</th>\n",
              "      <th>%</th>\n",
              "      <th>PValue</th>\n",
              "      <th>Genes</th>\n",
              "      <th>List Total</th>\n",
              "      <th>Pop Hits</th>\n",
              "      <th>Pop Total</th>\n",
              "      <th>Fold Enrichment</th>\n",
              "      <th>Bonferroni</th>\n",
              "      <th>Benjamini</th>\n",
              "      <th>FDR</th>\n",
              "    </tr>\n",
              "  </thead>\n",
              "  <tbody>\n",
              "    <tr>\n",
              "      <th>0</th>\n",
              "      <td>KEGG_PATHWAY</td>\n",
              "      <td>hsa04610:Complement and coagulation cascades</td>\n",
              "      <td>7</td>\n",
              "      <td>3.211009</td>\n",
              "      <td>0.001325</td>\n",
              "      <td>205382_S_AT, 207808_S_AT, 203854_AT, 211429_S_...</td>\n",
              "      <td>123</td>\n",
              "      <td>69</td>\n",
              "      <td>6879</td>\n",
              "      <td>5.673736</td>\n",
              "      <td>0.221681</td>\n",
              "      <td>0.250453</td>\n",
              "      <td>0.250453</td>\n",
              "    </tr>\n",
              "    <tr>\n",
              "      <th>1</th>\n",
              "      <td>KEGG_PATHWAY</td>\n",
              "      <td>hsa00350:Tyrosine metabolism</td>\n",
              "      <td>5</td>\n",
              "      <td>2.293578</td>\n",
              "      <td>0.003224</td>\n",
              "      <td>214308_S_AT, 205221_AT, 203180_AT, 209612_S_AT...</td>\n",
              "      <td>123</td>\n",
              "      <td>35</td>\n",
              "      <td>6879</td>\n",
              "      <td>7.989547</td>\n",
              "      <td>0.456794</td>\n",
              "      <td>0.304641</td>\n",
              "      <td>0.304641</td>\n",
              "    </tr>\n",
              "    <tr>\n",
              "      <th>2</th>\n",
              "      <td>KEGG_PATHWAY</td>\n",
              "      <td>hsa05144:Malaria</td>\n",
              "      <td>5</td>\n",
              "      <td>2.293578</td>\n",
              "      <td>0.010788</td>\n",
              "      <td>212157_AT, 217414_X_AT, 211696_X_AT, 211699_X_...</td>\n",
              "      <td>123</td>\n",
              "      <td>49</td>\n",
              "      <td>6879</td>\n",
              "      <td>5.706819</td>\n",
              "      <td>0.871276</td>\n",
              "      <td>0.676598</td>\n",
              "      <td>0.676598</td>\n",
              "    </tr>\n",
              "    <tr>\n",
              "      <th>3</th>\n",
              "      <td>KEGG_PATHWAY</td>\n",
              "      <td>hsa05222:Small cell lung cancer</td>\n",
              "      <td>6</td>\n",
              "      <td>2.752294</td>\n",
              "      <td>0.017170</td>\n",
              "      <td>214701_S_AT, 211719_X_AT, 205954_AT, 210495_X_...</td>\n",
              "      <td>123</td>\n",
              "      <td>85</td>\n",
              "      <td>6879</td>\n",
              "      <td>3.947776</td>\n",
              "      <td>0.962116</td>\n",
              "      <td>0.676598</td>\n",
              "      <td>0.676598</td>\n",
              "    </tr>\n",
              "    <tr>\n",
              "      <th>4</th>\n",
              "      <td>KEGG_PATHWAY</td>\n",
              "      <td>hsa04512:ECM-receptor interaction</td>\n",
              "      <td>6</td>\n",
              "      <td>2.752294</td>\n",
              "      <td>0.018811</td>\n",
              "      <td>214701_S_AT, 211719_X_AT, 202310_S_AT, 202311_...</td>\n",
              "      <td>123</td>\n",
              "      <td>87</td>\n",
              "      <td>6879</td>\n",
              "      <td>3.857023</td>\n",
              "      <td>0.972380</td>\n",
              "      <td>0.676598</td>\n",
              "      <td>0.676598</td>\n",
              "    </tr>\n",
              "    <tr>\n",
              "      <th>5</th>\n",
              "      <td>KEGG_PATHWAY</td>\n",
              "      <td>hsa05200:Pathways in cancer</td>\n",
              "      <td>14</td>\n",
              "      <td>6.422018</td>\n",
              "      <td>0.021479</td>\n",
              "      <td>211719_X_AT, 205016_AT, 209270_AT, 211725_S_AT...</td>\n",
              "      <td>123</td>\n",
              "      <td>393</td>\n",
              "      <td>6879</td>\n",
              "      <td>1.992304</td>\n",
              "      <td>0.983491</td>\n",
              "      <td>0.676598</td>\n",
              "      <td>0.676598</td>\n",
              "    </tr>\n",
              "    <tr>\n",
              "      <th>6</th>\n",
              "      <td>KEGG_PATHWAY</td>\n",
              "      <td>hsa04151:PI3K-Akt signaling pathway</td>\n",
              "      <td>12</td>\n",
              "      <td>5.504587</td>\n",
              "      <td>0.041845</td>\n",
              "      <td>211719_X_AT, 202310_S_AT, 202311_S_AT, 205713_...</td>\n",
              "      <td>123</td>\n",
              "      <td>345</td>\n",
              "      <td>6879</td>\n",
              "      <td>1.945281</td>\n",
              "      <td>0.999690</td>\n",
              "      <td>0.989803</td>\n",
              "      <td>0.989803</td>\n",
              "    </tr>\n",
              "    <tr>\n",
              "      <th>7</th>\n",
              "      <td>KEGG_PATHWAY</td>\n",
              "      <td>hsa00980:Metabolism of xenobiotics by cytochro...</td>\n",
              "      <td>5</td>\n",
              "      <td>2.293578</td>\n",
              "      <td>0.041896</td>\n",
              "      <td>211653_X_AT, 203180_AT, 209612_S_AT, 202435_S_...</td>\n",
              "      <td>123</td>\n",
              "      <td>74</td>\n",
              "      <td>6879</td>\n",
              "      <td>3.778840</td>\n",
              "      <td>0.999693</td>\n",
              "      <td>0.989803</td>\n",
              "      <td>0.989803</td>\n",
              "    </tr>\n",
              "  </tbody>\n",
              "</table>\n",
              "</div>"
            ],
            "text/plain": [
              "       Category  ...       FDR\n",
              "0  KEGG_PATHWAY  ...  0.250453\n",
              "1  KEGG_PATHWAY  ...  0.304641\n",
              "2  KEGG_PATHWAY  ...  0.676598\n",
              "3  KEGG_PATHWAY  ...  0.676598\n",
              "4  KEGG_PATHWAY  ...  0.676598\n",
              "5  KEGG_PATHWAY  ...  0.676598\n",
              "6  KEGG_PATHWAY  ...  0.989803\n",
              "7  KEGG_PATHWAY  ...  0.989803\n",
              "\n",
              "[8 rows x 13 columns]"
            ]
          },
          "metadata": {
            "tags": []
          },
          "execution_count": 2
        }
      ]
    },
    {
      "cell_type": "code",
      "metadata": {
        "colab": {
          "base_uri": "https://localhost:8080/"
        },
        "id": "YqiToXLQlnIA",
        "outputId": "594d4575-7bce-4ab5-ee43-b1432bb6416d"
      },
      "source": [
        "pat_terms=np.asarray(kegg_data['Term'])\r\n",
        "pat_terms"
      ],
      "execution_count": 5,
      "outputs": [
        {
          "output_type": "execute_result",
          "data": {
            "text/plain": [
              "array(['hsa04610:Complement and coagulation cascades',\n",
              "       'hsa00350:Tyrosine metabolism', 'hsa05144:Malaria',\n",
              "       'hsa05222:Small cell lung cancer',\n",
              "       'hsa04512:ECM-receptor interaction', 'hsa05200:Pathways in cancer',\n",
              "       'hsa04151:PI3K-Akt signaling pathway',\n",
              "       'hsa00980:Metabolism of xenobiotics by cytochrome P450'],\n",
              "      dtype=object)"
            ]
          },
          "metadata": {
            "tags": []
          },
          "execution_count": 5
        }
      ]
    },
    {
      "cell_type": "code",
      "metadata": {
        "colab": {
          "base_uri": "https://localhost:8080/"
        },
        "id": "kWnFcvqgmgwH",
        "outputId": "3877b0c2-496a-4a5c-81ae-456da21d4f90"
      },
      "source": [
        "counts=np.asarray(kegg_data['Count'])\r\n",
        "counts"
      ],
      "execution_count": 19,
      "outputs": [
        {
          "output_type": "execute_result",
          "data": {
            "text/plain": [
              "array([ 7,  5,  5,  6,  6, 14, 12,  5])"
            ]
          },
          "metadata": {
            "tags": []
          },
          "execution_count": 19
        }
      ]
    },
    {
      "cell_type": "code",
      "metadata": {
        "colab": {
          "base_uri": "https://localhost:8080/"
        },
        "id": "Keh95yVnmqVx",
        "outputId": "f997733f-b396-4859-d9ee-8867cc756715"
      },
      "source": [
        "p_values=np.asarray(kegg_data['PValue'])\r\n",
        "p_values=-np.log10(p_values)\r\n",
        "p_values"
      ],
      "execution_count": 8,
      "outputs": [
        {
          "output_type": "execute_result",
          "data": {
            "text/plain": [
              "array([2.87773615, 2.49164322, 1.96704349, 1.76524086, 1.72558058,\n",
              "       1.66797969, 1.37835494, 1.37782309])"
            ]
          },
          "metadata": {
            "tags": []
          },
          "execution_count": 8
        }
      ]
    },
    {
      "cell_type": "code",
      "metadata": {
        "colab": {
          "base_uri": "https://localhost:8080/"
        },
        "id": "oem_zIM2m-E2",
        "outputId": "f03d1d57-1fb6-46ce-98bb-8fa74eb36230"
      },
      "source": [
        "folds=np.asarray(kegg_data['Fold Enrichment'])\r\n",
        "folds"
      ],
      "execution_count": 10,
      "outputs": [
        {
          "output_type": "execute_result",
          "data": {
            "text/plain": [
              "array([5.6737363 , 7.98954704, 5.70681931, 3.94777618, 3.85702271,\n",
              "       1.99230435, 1.94528102, 3.77883982])"
            ]
          },
          "metadata": {
            "tags": []
          },
          "execution_count": 10
        }
      ]
    },
    {
      "cell_type": "code",
      "metadata": {
        "colab": {
          "base_uri": "https://localhost:8080/",
          "height": 606
        },
        "id": "ks1Fw_F9nPNA",
        "outputId": "519d94d0-04e6-48c4-caa6-5959ea8d7c0a"
      },
      "source": [
        "fig, ax = plt.subplots(figsize=(6,10))\r\n",
        "my_cmap = cm.get_cmap('RdBu')\r\n",
        "sc=ax.scatter(folds, pat_terms, c=p_values, s=counts*10, cmap=my_cmap)\r\n",
        "plt.colorbar(sc,shrink=0.5,label='-log10(p-value)')\r\n",
        "kw=dict(prop=\"sizes\",func=lambda s: s/10,alpha=0.6)\r\n",
        "\r\n",
        "handles, labels = sc.legend_elements(prop=\"sizes\",func=lambda s: s/10,alpha=0.6)\r\n",
        "legend2 = ax.legend(handles, labels, loc=\"best\", title=\"Counts\")\r\n",
        "plt.ylabel('Pathway')\r\n",
        "plt.xlabel('Fold Enrichment')\r\n",
        "plt.grid(alpha=0.1,color='gray')\r\n",
        "ax.set_facecolor('whitesmoke')\r\n",
        "plt.show()"
      ],
      "execution_count": 55,
      "outputs": [
        {
          "output_type": "display_data",
          "data": {
            "image/png": "[encoded data removed]",
            "text/plain": [
              "<Figure size 432x720 with 2 Axes>"
            ]
          },
          "metadata": {
            "tags": [],
            "needs_background": "light"
          }
        }
      ]
    },
    {
      "cell_type": "code",
      "metadata": {
        "id": "BHtDpWpnny_c"
      },
      "source": [
        ""
      ],
      "execution_count": null,
      "outputs": []
    }
  ]
}